{
 "cells": [
  {
   "cell_type": "code",
   "execution_count": null,
   "metadata": {},
   "outputs": [],
   "source": [
    "# Importing Hollywoods Film Profits dataset\n",
    "import pandas as pd\n",
    "df = pd.read_csv (r'C:\\Users\\Tom\\Downloads\\New TableauPython Proj\\HollywoodsMostProfitableStories.csv')"
   ]
  },
  {
   "cell_type": "code",
   "execution_count": null,
   "metadata": {},
   "outputs": [],
   "source": [
    "# Basic information of our table. How many films do we have recorded, how are they categorized?\n",
    "rowCol = df.shape\n",
    "print(rowCol)\n",
    "\n",
    "colIndex = df.columns\n",
    "print(colIndex)"
   ]
  },
  {
   "cell_type": "code",
   "execution_count": null,
   "metadata": {},
   "outputs": [],
   "source": [
    "# Ordering the table in ascending or descending order of Rotten Tomatoes ratings\n",
    "rotten_tomato_sort = df.sort_values(by=['Rotten Tomatoes %'],\n",
    "    ascending=[False])\n",
    "rotten_tomato_sort"
   ]
  },
  {
   "cell_type": "code",
   "execution_count": null,
   "metadata": {},
   "outputs": [],
   "source": [
    "# Looking at highest scored films\n",
    "rotten_tomato_sort.head(10)"
   ]
  },
  {
   "cell_type": "code",
   "execution_count": null,
   "metadata": {},
   "outputs": [],
   "source": [
    "# Looking at lowest scored films\n",
    "rotten_tomato_sort.tail(10)"
   ]
  },
  {
   "cell_type": "code",
   "execution_count": null,
   "metadata": {},
   "outputs": [],
   "source": [
    "# How was Hollywood's performance for each year?\n",
    "yearTable = df.groupby(by=['Year']).mean()\n",
    "yearTable"
   ]
  },
  {
   "cell_type": "code",
   "execution_count": null,
   "metadata": {},
   "outputs": [],
   "source": [
    "# How did each studio do per year?\n",
    "studioYear = df.groupby(by=['Lead Studio','Year']).mean()\n",
    "studioYear"
   ]
  },
  {
   "cell_type": "code",
   "execution_count": null,
   "metadata": {},
   "outputs": [],
   "source": [
    "# What about the performance of each genre per year?\n",
    "genreYear = df.groupby(by=['Genre','Year']).mean()\n",
    "genreYear"
   ]
  },
  {
   "cell_type": "code",
   "execution_count": null,
   "metadata": {},
   "outputs": [],
   "source": [
    "# Extra insights\n",
    "studioGenreYear = df.groupby(by=['Lead Studio','Genre','Year']).mean()\n",
    "studioGenreYear"
   ]
  },
  {
   "cell_type": "code",
   "execution_count": null,
   "metadata": {},
   "outputs": [],
   "source": [
    "# Each studio's best grossed films\n",
    "bestFilm = df.groupby(by=['Lead Studio']).max()\n",
    "bestFilm"
   ]
  },
  {
   "cell_type": "code",
   "execution_count": null,
   "metadata": {},
   "outputs": [],
   "source": [
    "# Each studio's worst grossed films\n",
    "worstFilm = df.groupby(by=['Lead Studio']).min()\n",
    "worstFilm"
   ]
  }
 ],
 "metadata": {
  "kernelspec": {
   "display_name": "Python 3.9.12 ('base')",
   "language": "python",
   "name": "python3"
  },
  "language_info": {
   "codemirror_mode": {
    "name": "ipython",
    "version": 3
   },
   "file_extension": ".py",
   "mimetype": "text/x-python",
   "name": "python",
   "nbconvert_exporter": "python",
   "pygments_lexer": "ipython3",
   "version": "3.9.12"
  },
  "orig_nbformat": 4,
  "vscode": {
   "interpreter": {
    "hash": "ad2bdc8ecc057115af97d19610ffacc2b4e99fae6737bb82f5d7fb13d2f2c186"
   }
  }
 },
 "nbformat": 4,
 "nbformat_minor": 2
}
